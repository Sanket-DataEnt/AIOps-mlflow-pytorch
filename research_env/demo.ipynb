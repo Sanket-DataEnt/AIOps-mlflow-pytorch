{
 "cells": [
  {
   "cell_type": "code",
   "execution_count": 1,
   "id": "bdf2c80c",
   "metadata": {},
   "outputs": [],
   "source": [
    "import torch\n",
    "import os \n",
    "import numpy as np\n",
    "import torch.nn as nn\n",
    "import torch.nn.functional as F\n",
    "from torch.optim.lr_scheduler import StepLR\n",
    "from torchvision import datasets, transforms\n",
    "import mlflow\n",
    "import mlflow.pytorch"
   ]
  },
  {
   "cell_type": "code",
   "execution_count": 2,
   "id": "9a3c8963",
   "metadata": {},
   "outputs": [],
   "source": [
    "class Config:\n",
    "    EPOCHS = 10\n",
    "    BATCH_SIZE = 32\n",
    "    LR = 0.01\n",
    "    DEVICE = 'cuda' if torch.cuda.is_available() else 'cpu'\n",
    "    GAMMA = 0.7\n",
    "    SEED = 42\n",
    "    LOG_INTERVAL = 10\n",
    "    TEST_BATCH_SIZE = 1000\n",
    "    DRY_RUN = True"
   ]
  },
  {
   "cell_type": "code",
   "execution_count": 3,
   "id": "78204742",
   "metadata": {},
   "outputs": [],
   "source": [
    "config = Config()"
   ]
  },
  {
   "cell_type": "code",
   "execution_count": 4,
   "id": "a8944040",
   "metadata": {},
   "outputs": [],
   "source": [
    "class ConvNet(nn.Module):\n",
    "    def __init__(self):\n",
    "        super(ConvNet, self).__init__()\n",
    "        self.conv1 = nn.Conv2d(1, 32, 3, 1)\n",
    "        self.conv2 = nn.Conv2d(32, 64, 3, 1)\n",
    "        self.dropout1 = nn.Dropout(0.25)\n",
    "        self.dropout2 = nn.Dropout(0.5)       \n",
    "        self.fc1 = nn.Linear(9216, 128)\n",
    "        self.fc2 = nn.Linear(128, 10)\n",
    "        \n",
    "    def forward(self, x):\n",
    "        x = self.conv1(x)\n",
    "        x = F.relu(x)\n",
    "        x = self.conv2(x)\n",
    "        x = F.relu(x)\n",
    "        x = F.max_pool2d(x, 2)\n",
    "        x = self.dropout1(x)\n",
    "        x = torch.flatten(x, 1)\n",
    "        x = self.fc1(x)\n",
    "        x = F.relu(x)\n",
    "        x = self.dropout2(x)\n",
    "        x = self.fc2(x)\n",
    "        \n",
    "        output = F.log_softmax(x, dim=1)\n",
    "        return output"
   ]
  },
  {
   "cell_type": "code",
   "execution_count": 5,
   "id": "7197eb74",
   "metadata": {},
   "outputs": [],
   "source": [
    "def train(config, model, device, train_loader, optimizer, epoch):\n",
    "    model.train()\n",
    "    for batch_idx, (data, target) in enumerate(train_loader):\n",
    "        data, target = data.to(device), target.to(device)\n",
    "        optimizer.zero_grad()\n",
    "        pred = model(data)\n",
    "        loss = F.cross_entropy(pred, target)\n",
    "        loss.backward()\n",
    "        optimizer.step()\n",
    "        if batch_idx % config.LOG_INTERVAL == 0:\n",
    "            print(f\"train epoch: {epoch} [{batch_idx * len(data)}/{len(train_loader.dataset)} ({100.0 *batch_idx / len(train_loader):.0f})]\\t Loss:  {loss.item():.6f}\")\n",
    "            \n",
    "            if config.DRY_RUN:\n",
    "                break"
   ]
  },
  {
   "cell_type": "code",
   "execution_count": 6,
   "id": "2e758d06",
   "metadata": {},
   "outputs": [],
   "source": [
    "def test(model, device, test_loader):\n",
    "    pass"
   ]
  },
  {
   "cell_type": "code",
   "execution_count": 7,
   "id": "46979cfd",
   "metadata": {},
   "outputs": [
    {
     "data": {
      "text/plain": [
       "<torch._C.Generator at 0x228d5e52610>"
      ]
     },
     "execution_count": 7,
     "metadata": {},
     "output_type": "execute_result"
    }
   ],
   "source": [
    "torch.manual_seed(config.SEED)"
   ]
  },
  {
   "cell_type": "code",
   "execution_count": 8,
   "id": "b77958c2",
   "metadata": {},
   "outputs": [],
   "source": [
    "train_kwargs = {\"batch_size\": config.BATCH_SIZE}\n",
    "test_kwargs = {\"batch_size\": config.TEST_BATCH_SIZE}"
   ]
  },
  {
   "cell_type": "code",
   "execution_count": 9,
   "id": "dff3a9df",
   "metadata": {},
   "outputs": [],
   "source": [
    "if config.DEVICE == \"cuda\":\n",
    "    cuda_kwargs = {\"num_workers\": 1, \"pin_memory\": True, \"shuffle\": True}\n",
    "    train_kwargs.update(cuda_kwargs)\n",
    "    test_kwargs.update(cuda_kwargs)    "
   ]
  },
  {
   "cell_type": "code",
   "execution_count": 10,
   "id": "cd63ab58",
   "metadata": {},
   "outputs": [],
   "source": [
    "transforms = transforms.Compose(\n",
    "    [transforms.ToTensor()]\n",
    ")"
   ]
  },
  {
   "cell_type": "code",
   "execution_count": 11,
   "id": "727e7ede",
   "metadata": {},
   "outputs": [],
   "source": [
    "train = datasets.MNIST(\"../data\", train=True, download=True, transform=transforms)\n",
    "test = datasets.MNIST(\"../data\", train=False, transform=transforms)\n",
    "\n",
    "train_loader = torch.utils.data.DataLoader(train, **train_kwargs)\n",
    "test_loader = torch.utils.data.DataLoader(test, **test_kwargs)"
   ]
  },
  {
   "cell_type": "code",
   "execution_count": null,
   "id": "4f8069eb",
   "metadata": {},
   "outputs": [],
   "source": [
    "model = ConvNet().to(config.DEVICE)\n",
    "scripted_model = torch.jit.script(model)\n",
    "optimizer = torch.optim.Adam(model.parameters(), lr=config.LR)\n",
    "\n",
    "scheduler = StepLR(optimizer, step_size=1, gamma=config.GAMMA)"
   ]
  },
  {
   "cell_type": "code",
   "execution_count": null,
   "id": "f1e82629",
   "metadata": {},
   "outputs": [],
   "source": [
    "# training loop\n",
    "\n",
    "for epoch in range(1, config.EPOCHS + 1):\n",
    "    train(config, scripted_model, config.DEVICE, train_loader, optimizer, epoch)\n",
    "    scheduler.step()\n",
    "    "
   ]
  },
  {
   "cell_type": "code",
   "execution_count": null,
   "id": "da30c0bd",
   "metadata": {},
   "outputs": [],
   "source": []
  }
 ],
 "metadata": {
  "kernelspec": {
   "display_name": "Python 3 (ipykernel)",
   "language": "python",
   "name": "python3"
  },
  "language_info": {
   "codemirror_mode": {
    "name": "ipython",
    "version": 3
   },
   "file_extension": ".py",
   "mimetype": "text/x-python",
   "name": "python",
   "nbconvert_exporter": "python",
   "pygments_lexer": "ipython3",
   "version": "3.7.11"
  }
 },
 "nbformat": 4,
 "nbformat_minor": 5
}
